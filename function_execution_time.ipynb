{
  "nbformat": 4,
  "nbformat_minor": 0,
  "metadata": {
    "colab": {
      "provenance": [],
      "authorship_tag": "ABX9TyN5WeHEWT3Dlr+Xb1L5rK1p",
      "include_colab_link": true
    },
    "kernelspec": {
      "name": "python3",
      "display_name": "Python 3"
    },
    "language_info": {
      "name": "python"
    }
  },
  "cells": [
    {
      "cell_type": "markdown",
      "metadata": {
        "id": "view-in-github",
        "colab_type": "text"
      },
      "source": [
        "<a href=\"https://colab.research.google.com/github/mysolution20/practical_advice/blob/main/function_execution_time.ipynb\" target=\"_parent\"><img src=\"https://colab.research.google.com/assets/colab-badge.svg\" alt=\"Open In Colab\"/></a>"
      ]
    },
    {
      "cell_type": "code",
      "execution_count": null,
      "metadata": {
        "colab": {
          "base_uri": "https://localhost:8080/"
        },
        "id": "4NFqJ2D2I7T9",
        "outputId": "4b7f6e97-e35a-433b-e75f-81ee5eb70545"
      },
      "outputs": [
        {
          "output_type": "stream",
          "name": "stdout",
          "text": [
            "0.0638116190000062 0.4337535010000124 0.008355687000005219\n"
          ]
        }
      ],
      "source": [
        "import bisect\n",
        "from random import randint, choice\n",
        "from time import time\n",
        "from timeit import timeit\n",
        "\n",
        "\n",
        "def searcher1(a_list, n):\n",
        "    try:\n",
        "        return a_list.index(n)\n",
        "    except ValueError:\n",
        "        return -1\n",
        "\n",
        "\n",
        "def searcher2(a_list, n):\n",
        "    for j, element in enumerate(a_list):\n",
        "        if element == n:\n",
        "            return j\n",
        "        if element > n:\n",
        "            return -1\n",
        "    return -1\n",
        "\n",
        "\n",
        "def searcher3(a_list, n):\n",
        "    index = bisect.bisect_left(a_list, n)\n",
        "    return index if a_list[index] == n else -1\n",
        "\n",
        "\n",
        "my_set = set()\n",
        "for i in range(10**3):\n",
        "    my_set.add(randint(1, 10**8))\n",
        "my_list = sorted(my_set)\n",
        "number = choice(my_list)\n",
        "\n",
        "x = timeit(\"searcher1(my_list, number)\", globals=globals(), number=10000)\n",
        "y = timeit(\"searcher2(my_list, number)\", globals=globals(), number=10000)\n",
        "z = timeit(\"searcher3(my_list, number)\", globals=globals(), number=10000)\n",
        "print(x, y, z)"
      ]
    }
  ]
}